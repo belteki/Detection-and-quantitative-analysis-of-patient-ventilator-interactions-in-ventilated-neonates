{
 "cells": [
  {
   "cell_type": "code",
   "execution_count": 1,
   "id": "bc234e5f-8b86-4a19-a782-7ad1f240b340",
   "metadata": {},
   "outputs": [],
   "source": [
    "import pandas as pd\n",
    "import os\n",
    "\n",
    "os.chdir(\"test\")\n",
    "stems = [x for x in os.listdir() if x.find(\"DG\") > -1]\n",
    "stems.sort()\n",
    "combined = None\n",
    "waveforms = None\n",
    "for s in stems:\n",
    "    if os.path.exists(\"{}/labeled_breaths\".format(s)):\n",
    "        idx = pd.read_csv(\"{}/labeled_breaths/index.csv\".format(s))\n",
    "        idx[\"Sample\"] = s\n",
    "        if combined is None:\n",
    "            combined = idx\n",
    "            waveforms = pd.read_csv(\"{}/labeled_breaths/0.csv\".format(s), usecols=[1,2])\n",
    "            waveforms[\"Sample\"] = s\n",
    "            waveforms[\"original_index\"] = idx[\"original_index\"].iat[0]\n",
    "            for i in range(1, idx.shape[0]):\n",
    "                w = pd.read_csv(\"{}/labeled_breaths/{}.csv\".format(s,i), usecols=[1,2])\n",
    "                w[\"Sample\"] = s\n",
    "                w[\"original_index\"] = idx[\"original_index\"].iat[i]\n",
    "                waveforms = pd.concat((waveforms, w))\n",
    "        else:\n",
    "            combined = pd.concat((combined, idx))\n",
    "            for i in range(idx.shape[0]):\n",
    "                w = pd.read_csv(\"{}/labeled_breaths/{}.csv\".format(s,i), usecols=[1,2])\n",
    "                w[\"Sample\"] = s\n",
    "                w[\"original_index\"] = idx[\"original_index\"].iat[i]\n",
    "                waveforms = pd.concat((waveforms, w))\n",
    "combined = combined.reset_index().iloc[:,18:].drop(\"target\", axis=1)\n",
    "combined.to_csv(\"combined.csv\")\n",
    "waveforms.to_csv(\"waveforms.csv\")"
   ]
  }
 ],
 "metadata": {
  "kernelspec": {
   "display_name": "Python 3 (ipykernel)",
   "language": "python",
   "name": "python3"
  },
  "language_info": {
   "codemirror_mode": {
    "name": "ipython",
    "version": 3
   },
   "file_extension": ".py",
   "mimetype": "text/x-python",
   "name": "python",
   "nbconvert_exporter": "python",
   "pygments_lexer": "ipython3",
   "version": "3.9.13"
  }
 },
 "nbformat": 4,
 "nbformat_minor": 5
}
